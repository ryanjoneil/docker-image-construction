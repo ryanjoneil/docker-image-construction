{
 "cells": [
  {
   "cell_type": "markdown",
   "metadata": {
    "slideshow": {
     "slide_type": "slide"
    }
   },
   "source": [
    "# The Docker Image Construction Problem\n",
    "\n",
    "## Part 1. Introduction\n",
    "\n",
    "Last edited: August 13, 2015\n",
    "\n",
    "[Ryan J. O'Neil](mailto:roneil1@gmu.edu)  \n",
    "Engineering @ [Yhat, Inc.](https://yhathq.com/)  \n",
    "[SEOR](http://seor.gmu.edu) @ George Mason University"
   ]
  },
  {
   "cell_type": "markdown",
   "metadata": {
    "slideshow": {
     "slide_type": "slide"
    }
   },
   "source": [
    "### Motivation\n",
    "\n",
    "Consider the devops engineer."
   ]
  },
  {
   "cell_type": "markdown",
   "metadata": {
    "slideshow": {
     "slide_type": "subslide"
    }
   },
   "source": [
    "A lot of devops revolves around the construction of environments for:\n",
    "\n",
    "* Software development\n",
    "* Testing & quality assurance\n",
    "* Running operational systems"
   ]
  },
  {
   "cell_type": "markdown",
   "metadata": {
    "slideshow": {
     "slide_type": "subslide"
    }
   },
   "source": [
    "There's even a Venn diagram about this...\n",
    "\n",
    "![](images/devops-venn.svg)"
   ]
  },
  {
   "cell_type": "markdown",
   "metadata": {
    "slideshow": {
     "slide_type": "subslide"
    }
   },
   "source": [
    "A simple example is the upgrading of My Enterprise Java Application (TM) to a new Linux kernel. My Enterprise Java Application generates lots of \\$\\$\\$\\$ for My Enterprise Software Company. I don't want to just upgrade the kernel on our production instance without testing first. So I need two environments from my devops person.\n",
    "\n",
    "One for running the production instance:\n",
    "\n",
    "|     | Command                                             |\n",
    "|-----|-----------------------------------------------------|\n",
    "| $A$ | Install the Java compiler and runtime environment.  |\n",
    "| $B$ | Download a set of external dependencies.            |\n",
    "| $C$ | Set of a database schema and populate it with data. |"
   ]
  },
  {
   "cell_type": "markdown",
   "metadata": {
    "slideshow": {
     "slide_type": "subslide"
    }
   },
   "source": [
    "And another for testing it with the new kernel:\n",
    "\n",
    "|     | Command                                             |\n",
    "|-----|-----------------------------------------------------|\n",
    "| $A$ | Install the Java compiler and runtime environment.  |\n",
    "| $B$ | Download a set of external dependencies.            |\n",
    "| $C$ | Set of a database schema and populate it with data. |\n",
    "| $D$ | Upgrade the kernel to the latest version.           |\n",
    "\n",
    "If My Enterprise Java Application (TM) integrates with a number of optional third party applications, I might need an additional test environment for each one.\n",
    "\n",
    "Looks like my devops engineer will be working all weekend."
   ]
  },
  {
   "cell_type": "markdown",
   "metadata": {
    "slideshow": {
     "slide_type": "subslide"
    }
   },
   "source": [
    "At a big software shop, devops may be responsible for the continual setup and teardown of dozens (or _hundreds_) of system configurations for a single software project.\n",
    "\n",
    "This used to be done with physical hardware on _(sometimes)_ fresh operating system installs.\n",
    "\n",
    "Most medium-to-large software shops had an air conditioned room that looked like this.\n",
    "\n",
    "![](images/cable-spaghetti.jpg)"
   ]
  },
  {
   "cell_type": "markdown",
   "metadata": {
    "slideshow": {
     "slide_type": "slide"
    }
   },
   "source": [
    "### Background"
   ]
  },
  {
   "cell_type": "markdown",
   "metadata": {
    "slideshow": {
     "slide_type": "subslide"
    }
   },
   "source": [
    "#### Docker Cache Mechanics"
   ]
  },
  {
   "cell_type": "markdown",
   "metadata": {
    "slideshow": {
     "slide_type": "slide"
    }
   },
   "source": [
    "### Problem Formulation"
   ]
  }
 ],
 "metadata": {
  "celltoolbar": "Slideshow",
  "kernelspec": {
   "display_name": "Python 2",
   "language": "python",
   "name": "python2"
  },
  "language_info": {
   "codemirror_mode": {
    "name": "ipython",
    "version": 2
   },
   "file_extension": ".py",
   "mimetype": "text/x-python",
   "name": "python",
   "nbconvert_exporter": "python",
   "pygments_lexer": "ipython2",
   "version": "2.7.10"
  }
 },
 "nbformat": 4,
 "nbformat_minor": 0
}
