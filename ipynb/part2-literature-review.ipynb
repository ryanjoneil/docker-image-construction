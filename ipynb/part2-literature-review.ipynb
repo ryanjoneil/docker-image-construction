{
 "cells": [
  {
   "cell_type": "markdown",
   "metadata": {
    "collapsed": true
   },
   "source": [
    "Container fundamentals\n",
    "\n",
    "Scheduling problems\n",
    "\n",
    "Decomposition\n",
    "\n",
    "Preprocessing\n",
    "\n",
    "Clique and near-clique detection\n",
    "\n",
    "Symmetry elimination\n",
    "\n",
    "Split cuts\n",
    "\n",
    "Constraint programming / logic-based optimization"
   ]
  }
 ],
 "metadata": {
  "kernelspec": {
   "display_name": "Python 2",
   "language": "python",
   "name": "python2"
  },
  "language_info": {
   "codemirror_mode": {
    "name": "ipython",
    "version": 2
   },
   "file_extension": ".py",
   "mimetype": "text/x-python",
   "name": "python",
   "nbconvert_exporter": "python",
   "pygments_lexer": "ipython2",
   "version": "2.7.10"
  }
 },
 "nbformat": 4,
 "nbformat_minor": 0
}
