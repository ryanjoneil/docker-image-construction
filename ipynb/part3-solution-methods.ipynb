{
 "cells": [
  {
   "cell_type": "markdown",
   "metadata": {
    "collapsed": true
   },
   "source": [
    "## 4. Enhancements to the Formulation\n",
    "\n",
    "### 4.1. Preprocessing\n",
    "\n",
    "#### 4.1.1. Fully shared paths\n",
    "\n",
    "#### 4.1.2. Unshared paths\n",
    "\n",
    "### 4.2. Heuristics for generating initial feasible solutions\n",
    "\n",
    "#### 4.2.1. Most common command\n",
    "\n",
    "#### 4.2.2. Highest potential command\n",
    "\n",
    "### 4.3. Decomposition\n",
    "\n",
    "#### 4.3.1. Master problem\n",
    "\n",
    "#### 4.3.2. Subproblem & Benders cuts"
   ]
  },
  {
   "cell_type": "code",
   "execution_count": null,
   "metadata": {
    "collapsed": true
   },
   "outputs": [],
   "source": []
  }
 ],
 "metadata": {
  "kernelspec": {
   "display_name": "Python 2",
   "language": "python",
   "name": "python2"
  },
  "language_info": {
   "codemirror_mode": {
    "name": "ipython",
    "version": 2
   },
   "file_extension": ".py",
   "mimetype": "text/x-python",
   "name": "python",
   "nbconvert_exporter": "python",
   "pygments_lexer": "ipython2",
   "version": "2.7.10"
  }
 },
 "nbformat": 4,
 "nbformat_minor": 0
}
