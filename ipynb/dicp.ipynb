{
 "cells": [
  {
   "cell_type": "markdown",
   "metadata": {},
   "source": [
    "# The Docker Image Construction Problem\n",
    "\n",
    "Last edited: July 11, 2015\n",
    "\n",
    "[Ryan J. O'Neil](mailto:roneil1@gmu.edu)  \n",
    "Engineering @ [Yhat, Inc.](https://yhathq.com/)  \n",
    "[SEOR](http://seor.gmu.edu) @ George Mason University"
   ]
  },
  {
   "cell_type": "markdown",
   "metadata": {
    "collapsed": true
   },
   "source": [
    "## Abstract\n",
    "\n",
    "Nohthing too concrete."
   ]
  },
  {
   "cell_type": "markdown",
   "metadata": {},
   "source": [
    "## 1. Introduction\n",
    "\n",
    "As cloud computing becomes more prevalent in the world of software and information technology, techniques for automated and repeatable cloning of computing environments grow increasingly important. One strategy for doing this is the creation of containers. A container is an isolated environment similar to a virtual machine, but with a much lighter weight architecture. Instead of setting another kernel on top of the host operating system, containers share the host's kernel. Container resources are isolated from the host, making it easy to run programs within their own custom environments, while still benefitting from low overhead.\n",
    "\n",
    "### 1.1. A few notes about Linux containers\n",
    "\n",
    "Running containers on a Unix host operating system is not a new thing. Development of the `chroot` system call for Unix and BSD dates back to the late 1970s and early '80s. This enabled creation of `chroot` \"jails\" in which system users could execute commands as the `root` user, but were only allowed to see a subset of the file system. Later, the FreeBSD project extended the concept into a command called `jail`. In 2005, Sun Microsystems coined the term container with the creation of \"Solaris Containers,\" which were also built upon the `chroot` concept.\n",
    "\n",
    "Recent developments in the Linux kernel have made container virtualization more convenient and powerful. Notable among these are the addition of \"control groups\" in the 2.6.24 kernel, which allow isolation of hardware resources to a group of processes, and \"namespace isolation\" in the 3.8 kernel, which isolates processes from seeing other processes on the same system. These advancements form the basis for modern container architectures, such as LXC, Docker, and Rocket, which allow containers to function as though they are their own operating systems and user spaces.\n",
    "\n",
    "### 1.2. Motivation for the problem\n",
    "\n",
    "The lure of low-overhead virtualization is proving extremely attractive for engineers with many different roles in information technology. Containers provide easy replication of environments for software development, testing, and serving of infrastructure needs. They can be set up and torn down quickly without modifying their hosts, thus mapping naturally to distributed architectures. They allow one to capture complicated depedency structures for software in a single place, significantly speeding up development and testing times.\n",
    "\n",
    "However, virtualization is no panacea. With the adoption of containers systems come new operational problems. This paper explores one of these we call the Docker Image Construction Problem. While our focus will be on Docker's specific implementation of containers, the salient aspects of this problem can be mapped to other implementations as well.\n",
    "\n",
    "Consider a scenario many devops professionals are faced with regularly: the creation of environments for developing, testing, and finally running prduction software in.\n",
    "\n",
    "### 1.3. Docker cache mechanics\n"
   ]
  },
  {
   "cell_type": "markdown",
   "metadata": {},
   "source": [
    "## 2. Formulation\n",
    "\n",
    "### 2.1. Individual image construction\n",
    "\n",
    "### 2.2. Maximizing Docker cache usage\n",
    "\n",
    "### 2.3. Model formulation\n",
    "\n",
    "$$\n",
    "\\begin{array}{r l}\n",
    "   \\max        & z & = &\\sum\\limits_{i < j \\in I}\\sum\\limits_{s = 1}^{\\left\\vert{C_i \\cap C_j}\\right\\vert}\\sum\\limits_{c \\in C_i \\cap C_j} t_c y_{i,j,s,c} & & {\\scriptsize\\left(1\\right)} \\\\\n",
    "   \\text{s.t.} &   &   & \\sum\\limits_{c \\in C_i} x_{i,s,c} = 1 & \\forall\\, i \\in I  & {\\scriptsize\\left(2\\right)} \\\\\n",
    "               &   &   & \\sum\\limits_{s = 1}^{\\left\\vert{C_i}\\right\\vert} x_{i,s,c} = 1 & \\forall\\, i \\in I & {\\scriptsize\\left(3\\right)} \\\\\n",
    "               &   &   & y_{i,j,s,c} \\leq x_{i,s,c} & \\forall\\, i < j \\in I,\\, s = 1,\\dotsc,\\left\\vert{C_i \\cap C_j}\\right\\vert,\\, c \\in C_i \\cap C_j & {\\scriptsize\\left(4\\right)} \\\\\n",
    "               &   &   & y_{i,j,s,c} \\leq x_{j,s,c} & \\forall\\, i < j \\in I,\\, s = 1,\\dotsc,\\left\\vert{C_i \\cap C_j}\\right\\vert,\\, c \\in C_i \\cap C_j & {\\scriptsize\\left(5\\right)} \\\\\n",
    "               &   &   & \\sum\\limits_{c \\in C_i \\cap C_j} y_{i,j,s,c} \\leq \\sum\\limits_{c \\in C_i \\cap C_j} y_{i,j,s-1,c} & \\forall\\, i < j \\in I,\\, s = 2,\\dotsc,\\left\\vert{C_i \\cap C_j}\\right\\vert & {\\scriptsize\\left(6\\right)} \\\\\n",
    "               &   &   & x_{i,s,c} \\in \\{0,1\\} & & {\\scriptsize\\left(7\\right)} \\\\\n",
    "               &   &   & y_{i,j,s,c} \\geq 0 & & {\\scriptsize\\left(8\\right)} \\\\\n",
    "\\end{array}\n",
    "$$"
   ]
  },
  {
   "cell_type": "markdown",
   "metadata": {},
   "source": [
    "## 3. Numerical Example"
   ]
  },
  {
   "cell_type": "markdown",
   "metadata": {},
   "source": [
    "## 4. Enhancements to the Formulation\n",
    "\n",
    "### 4.1. Preprocessing\n",
    "\n",
    "#### 4.1.1. Fully shared paths\n",
    "\n",
    "#### 4.1.2. Unshared paths\n",
    "\n",
    "### 4.2. Heuristics for generating initial feasible solutions\n",
    "\n",
    "#### 4.2.1. Most common command\n",
    "\n",
    "#### 4.2.2. Highest potential command\n",
    "\n",
    "### 4.3. Decomposition\n",
    "\n",
    "#### 4.3.1. Master problem\n",
    "\n",
    "#### 4.3.2. Subproblem & Benders cuts"
   ]
  },
  {
   "cell_type": "markdown",
   "metadata": {},
   "source": [
    "## 5. Next Steps"
   ]
  },
  {
   "cell_type": "code",
   "execution_count": null,
   "metadata": {
    "collapsed": true
   },
   "outputs": [],
   "source": []
  }
 ],
 "metadata": {
  "kernelspec": {
   "display_name": "Python 2",
   "language": "python",
   "name": "python2"
  },
  "language_info": {
   "codemirror_mode": {
    "name": "ipython",
    "version": 2
   },
   "file_extension": ".py",
   "mimetype": "text/x-python",
   "name": "python",
   "nbconvert_exporter": "python",
   "pygments_lexer": "ipython2",
   "version": "2.7.10"
  }
 },
 "nbformat": 4,
 "nbformat_minor": 0
}
