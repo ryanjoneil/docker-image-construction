{
 "cells": [
  {
   "cell_type": "markdown",
   "metadata": {},
   "source": [
    "# The Docker Image Construction Problem\n",
    "\n",
    "Last edited: July 11, 2015\n",
    "\n",
    "[Ryan J. O'Neil](mailto:roneil1@gmu.edu)  \n",
    "Engineering @ [Yhat, Inc.](https://yhathq.com/)  \n",
    "[SEOR](http://seor.gmu.edu) @ George Mason University"
   ]
  },
  {
   "cell_type": "markdown",
   "metadata": {
    "collapsed": true
   },
   "source": [
    "## Abstract\n",
    "\n",
    "Nohthing too concrete."
   ]
  },
  {
   "cell_type": "markdown",
   "metadata": {},
   "source": [
    "## 1. Introduction\n",
    "\n",
    "### 1.1. A few notes about Linux containers\n",
    "\n",
    "### 1.2. Docker cache mechanics\n",
    "\n",
    "### 1.3. Motivation for the problem"
   ]
  },
  {
   "cell_type": "markdown",
   "metadata": {},
   "source": [
    "## 2. Formulation\n",
    "\n",
    "### 2.1. Individual image construction\n",
    "\n",
    "### 2.2. Maximizing Docker cache usage\n",
    "\n",
    "### 2.3. Model formulation\n",
    "\n",
    "$$\n",
    "\\begin{array}{r l}\n",
    "   \\max        & z & = &\\sum\\limits_{i < j \\in I}\\sum\\limits_{s = 1}^{\\left\\vert{C_i \\cap C_j}\\right\\vert}\\sum\\limits_{c \\in C_i \\cap C_j} t_c y_{i,j,s,c} & & {\\scriptsize\\left(1\\right)} \\\\\n",
    "   \\text{s.t.} &   &   & \\sum\\limits_{c \\in C_i} x_{i,s,c} = 1 & \\forall\\, i \\in I  & {\\scriptsize\\left(2\\right)} \\\\\n",
    "               &   &   & \\sum\\limits_{s = 1}^{\\left\\vert{C_i}\\right\\vert} x_{i,s,c} = 1 & \\forall\\, i \\in I & {\\scriptsize\\left(3\\right)} \\\\\n",
    "               &   &   & y_{i,j,s,c} \\leq x_{i,s,c} & \\forall\\, i < j \\in I,\\, s = 1,\\dotsc,\\left\\vert{C_i \\cap C_j}\\right\\vert,\\, c \\in C_i \\cap C_j & {\\scriptsize\\left(4\\right)} \\\\\n",
    "               &   &   & y_{i,j,s,c} \\leq x_{j,s,c} & \\forall\\, i < j \\in I,\\, s = 1,\\dotsc,\\left\\vert{C_i \\cap C_j}\\right\\vert,\\, c \\in C_i \\cap C_j & {\\scriptsize\\left(5\\right)} \\\\\n",
    "               &   &   & \\sum\\limits_{c \\in C_i \\cap C_j} y_{i,j,s,c} \\leq \\sum\\limits_{c \\in C_i \\cap C_j} y_{i,j,s-1,c} & \\forall\\, i < j \\in I,\\, s = 2,\\dotsc,\\left\\vert{C_i \\cap C_j}\\right\\vert & {\\scriptsize\\left(6\\right)} \\\\\n",
    "               &   &   & x_{i,s,c} \\in \\{0,1\\} & & {\\scriptsize\\left(7\\right)} \\\\\n",
    "               &   &   & y_{i,j,s,c} \\geq 0 & & {\\scriptsize\\left(8\\right)} \\\\\n",
    "\\end{array}\n",
    "$$"
   ]
  },
  {
   "cell_type": "markdown",
   "metadata": {},
   "source": [
    "## 3. Numerical Example"
   ]
  },
  {
   "cell_type": "markdown",
   "metadata": {},
   "source": [
    "## 4. Enhancements to the Formulation\n",
    "\n",
    "### 4.1. Preprocessing\n",
    "\n",
    "#### 4.1.1. Fully shared paths\n",
    "\n",
    "#### 4.1.2. Unshared paths\n",
    "\n",
    "### 4.2. Heuristics for generating initial feasible solutions\n",
    "\n",
    "#### 4.2.1. Most common command\n",
    "\n",
    "#### 4.2.2. Highest potential command\n",
    "\n",
    "### 4.3. Decomposition\n",
    "\n",
    "#### 4.3.1. Master problem\n",
    "\n",
    "#### 4.3.2. Subproblem & Benders cuts"
   ]
  },
  {
   "cell_type": "markdown",
   "metadata": {},
   "source": [
    "## 5. Next Steps"
   ]
  }
 ],
 "metadata": {
  "kernelspec": {
   "display_name": "Python 2",
   "language": "python",
   "name": "python2"
  },
  "language_info": {
   "codemirror_mode": {
    "name": "ipython",
    "version": 2
   },
   "file_extension": ".py",
   "mimetype": "text/x-python",
   "name": "python",
   "nbconvert_exporter": "python",
   "pygments_lexer": "ipython2",
   "version": "2.7.10"
  }
 },
 "nbformat": 4,
 "nbformat_minor": 0
}
