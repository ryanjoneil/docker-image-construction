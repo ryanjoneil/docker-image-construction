{
 "cells": [
  {
   "cell_type": "markdown",
   "metadata": {},
   "source": [
    "# The Docker Image Construction Problem\n",
    "\n",
    "[Ryan J. O'Neil](mailto:roneil1@gmu.edu)  \n",
    "[Systems Engineering & Operations Research](http://seor.gmu.edu)  \n",
    "George Mason University\n",
    "\n",
    "## Abstract\n",
    "\n",
    "The abstract goes here.\n",
    "\n",
    "## Introduction\n",
    "\n",
    "## Formulation\n",
    "\n",
    "## Solution Techniques\n",
    "\n",
    "### MILP Model\n",
    "\n",
    "### Heuristic\n",
    "\n",
    "### Benders Decomposition"
   ]
  },
  {
   "cell_type": "code",
   "execution_count": null,
   "metadata": {
    "collapsed": true
   },
   "outputs": [],
   "source": []
  }
 ],
 "metadata": {
  "kernelspec": {
   "display_name": "Python 2",
   "language": "python",
   "name": "python2"
  },
  "language_info": {
   "codemirror_mode": {
    "name": "ipython",
    "version": 2
   },
   "file_extension": ".py",
   "mimetype": "text/x-python",
   "name": "python",
   "nbconvert_exporter": "python",
   "pygments_lexer": "ipython2",
   "version": "2.7.10"
  }
 },
 "nbformat": 4,
 "nbformat_minor": 0
}
